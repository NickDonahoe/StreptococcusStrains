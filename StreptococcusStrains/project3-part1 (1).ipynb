{
 "cells": [
  {
   "cell_type": "markdown",
   "metadata": {},
   "source": [
    "# Project 3, Part I"
   ]
  },
  {
   "cell_type": "markdown",
   "metadata": {},
   "source": [
    "*Nicholas Donahoe nrd485*\n",
    "\n",
    "**This Project is due on May 3rd, 2018 at 7:00pm.**\n",
    "\n",
    "The complete submission will consist of four parts:\n",
    "\n",
    "1. Jupyter Notebook (.ipynb) file\n",
    "2. Jupyter Notebook converted to pdf\n",
    "3. R Markdown (.Rmd) file\n",
    "4. R Markdown converted to pdf\n",
    "\n",
    "Before submitting the Jupyter notebook part, please re-run all cells by clicking \"Kernel\" and selecting \"Restart & Run All.\""
   ]
  },
  {
   "cell_type": "markdown",
   "metadata": {},
   "source": [
    "## Background and motivation\n",
    "\n",
    "*Streptococcus pneumoniae is a bacteria that causes pneumococcal disease, which can be in the form of pneumonia, menigitis, and bacteremia. The bacteria is spread via coughing, sneezing, and close contact with a person who is infected. Typically, children, elderly, and people with weakened immune systems are more prone to contracting the disease. I chose to analyze streptococcus pneumonia due to having multiple family members having had contracted the disease in the past. I want to find out more about the bacteria.*"
   ]
  },
  {
   "cell_type": "markdown",
   "metadata": {},
   "source": [
    "## Question\n",
    "\n",
    "*What does the variation between the different strains of streptococcus pneumoniae indicate?*"
   ]
  },
  {
   "cell_type": "markdown",
   "metadata": {},
   "source": [
    "## Introduction\n",
    "\n",
    "*The complete genomes for streptococcus pneumoniae strains were obtained from the NCBI nucleotide database. The strains: Xen35, 19F, 335, 11A, and D39V were the strains of interest. The number of CoDing Sequences (CDS), hypothetical proteins within the coding sequences, and the number of genes for each strain were counted. The coding sequences is the portion of gene that encodes for proteins. The hypothetical protein are proteins where the name is not known. And the genes represent sequences in the DNA that contain coding and non-coding sequences in the genome. Analyzing the variations in these variables amongst the strains can provide insight on why these differences exist. (4-8 sentences)*"
   ]
  },
  {
   "cell_type": "markdown",
   "metadata": {},
   "source": [
    "## Data acquisition code"
   ]
  },
  {
   "cell_type": "code",
   "execution_count": 1,
   "metadata": {
    "scrolled": true
   },
   "outputs": [],
   "source": [
    "# Download data from NCBI Entrez, process as necessary, and write into a .csv file.\n",
    "import re\n",
    "from Bio import Entrez, SeqIO\n",
    "Entrez.email = \"nicholasdonahoe@gmail.com\" \n",
    "\n",
    "# Download sequence record for nucleotide id CP025256.1, CP025076.1, CP026670.1, CP018838.1, CP027540.1  (Streptococcus pneumoniae Strains: Xen35, 19F, 335, 11A, D39V)\n",
    "Count_Dict = {} # Empty dictionary to store all the information that's counted\n",
    "Count = 0 # Counter used to differentiate what strains are assigned what counts\n",
    "Strain = [\"D39V\", \"19F\", \"Xen35\", \"335\", \"11A\"] # List of all the strains\n",
    "Identifier = [\"CP027540.1\", \"CP025076.1\", \"CP025256.1\", \"CP026670.1\", \"CP018838.1\"] # List of all the IDs for each sequences\n",
    "\n",
    "# For loop to loop through each ID for each strain\n",
    "for ID in Identifier: \n",
    "    # Accesses and downloads each strain's information from the nucleotdie database\n",
    "    download_handle = Entrez.efetch(db=\"nucleotide\", id=ID, rettype=\"gb\", retmode=\"text\")\n",
    "    data_read = SeqIO.read(download_handle, \"genbank\") # read file directly\n",
    "    data = data_read.lower()\n",
    "    download_handle.close()\n",
    "    \n",
    "    CDS_count = 0 # Empty counter for the number coding sequences in each Streptococcus pneumoniae strain's genome\n",
    "    hyp_CDS_count = 0 # Empty counter for the number of hypothetical proteins in each Streptococcus pneumoniae strain's genome\n",
    "    Gene_count = 0 # Empty counter for the number of genes in each Streptococcus pneumoniae strain's genome\n",
    "    \n",
    "    # Counts all CDSs, the hypothetical ones, and the genes\n",
    "    for feature in data.features:\n",
    "        if feature.type == 'CDS':\n",
    "            CDS_count += 1\n",
    "            if \"product\" in feature.qualifiers:\n",
    "                product = feature.qualifiers[\"product\"][0]\n",
    "                match = re.search(r\"[H|h]ypothetical protein\", product) # Regex to match hypothetical protein that accounts for upper or lower case H \n",
    "                if match:\n",
    "                    hyp_CDS_count += 1\n",
    "        if feature.type == 'gene':\n",
    "            Gene_count += 1\n",
    "    \n",
    "    All_Dict = {\"CDS_count\":CDS_count, \"hyp_CDS_count\":hyp_CDS_count, \"Gene_count\":Gene_count} # Dictionary stores the count type and its corresponding count\n",
    "    Count_Dict[Strain[Count]] = All_Dict # Assigns the counts collected to each individual strain based on the overall count value \n",
    "    Count += 1 \n",
    "\n",
    "final_list = [] # Empty list \n",
    "for strain_name in Count_Dict: # Loops through the dictionary that contains all the counts for each strain\n",
    "    Counts = Count_Dict[strain_name] \n",
    "    temp_list = [strain_name, str(Counts[\"CDS_count\"]), str(Counts[\"hyp_CDS_count\"]), str(Counts[\"Gene_count\"])] # List of strain name and converted integer values to strings \n",
    "    string = \",\".join(temp_list) # String of temporary list\n",
    "    final_list.append(string) # Appends the strings together into a final list\n",
    "\n",
    "data_table = \"\\n\".join(final_list) # Formats the list into a string to resemble a table\n",
    "\n",
    "# Writes the csv for the information gathered\n",
    "with open(\"StreptoPneumae.csv\", \"w\") as file: \n",
    "    \n",
    "    # Writes variable names as the header\n",
    "    file.write(\"Strain,CDS_Count,hyp_CDS_Count,Gene_Count\\n\")\n",
    "    file.write(data_table)\n",
    "        "
   ]
  },
  {
   "cell_type": "code",
   "execution_count": null,
   "metadata": {},
   "outputs": [],
   "source": []
  }
 ],
 "metadata": {
  "kernelspec": {
   "display_name": "Python 3",
   "language": "python",
   "name": "python3"
  },
  "language_info": {
   "codemirror_mode": {
    "name": "ipython",
    "version": 3
   },
   "file_extension": ".py",
   "mimetype": "text/x-python",
   "name": "python",
   "nbconvert_exporter": "python",
   "pygments_lexer": "ipython3",
   "version": "3.6.4"
  }
 },
 "nbformat": 4,
 "nbformat_minor": 2
}
